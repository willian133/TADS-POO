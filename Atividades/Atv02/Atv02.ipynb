{
 "cells": [
  {
   "cell_type": "markdown",
   "id": "04689213-3104-4518-b399-8c1c86e4eace",
   "metadata": {},
   "source": [
    "# Exercício 01\n",
    "\n",
    "<p style=\"text-align:justify;\">\n",
    "Você é desafiado a criar uma classe em Java chamada ExercicioVariaveis que declare e inicialize variáveis de todos os tipos primitivos disponíveis na linguagem Java. Além disso, a classe deve utilizar caracteres especiais em algumas strings para demonstrar o uso adequado desses caracteres.\n",
    "\n",
    "Siga as instruções abaixo:\n",
    "</p>\n",
    "\n",
    "\n",
    "1. Declare e inicialize variáveis dos seguintes tipos primitivos:\n",
    "\n",
    "- int\n",
    "- long\n",
    "- float\n",
    "- double\n",
    "- char\n",
    "- boolean\n",
    "- byte\n",
    "- short\n",
    "- Exiba os valores das variáveis utilizando System.out.println.\n",
    "\n",
    "2. Utilize caracteres especiais em algumas strings para representar:\n",
    "\n",
    "- Caractere de nova linha (\\n)\n",
    "- Caractere de tabulação (\\t)\n",
    "- Caractere de aspas duplas (\")\n",
    "- Caractere de barra invertida (\\\\)\n",
    "- Certifique-se de que o código compila e execute corretamente.\n",
    "\n"
   ]
  },
  {
   "cell_type": "code",
   "execution_count": 1,
   "id": "16f0ad2d-7f62-4f2a-bc7c-0adff558865a",
   "metadata": {
    "tags": []
   },
   "outputs": [
    {
     "name": "stdout",
     "output_type": "stream",
     "text": [
      "1ª Parte: \n",
      "51\n",
      "3\n",
      "3.4\n",
      "3.4\n",
      "3\n",
      "true\n",
      "51\n",
      "3\n",
      "\n",
      "2ª Parte: \n",
      "\tO uso de determinados caracteres é importante para facilitar a leitura de determinadas strings. \n",
      "Esses caracteres são: \"\\n\",\"\\t\" etc...\n"
     ]
    },
    {
     "data": {
      "text/plain": [
       "null"
      ]
     },
     "execution_count": 1,
     "metadata": {},
     "output_type": "execute_result"
    }
   ],
   "source": [
    "/**\n",
    " * IFPR - Instituto Federal do Paraná\n",
    " * Professor: Nelson Bellincanta Filho\n",
    " * Aluno: Willian dos Santos\n",
    " * Curso: TADS\n",
    " * Ano: 2º ano\n",
    " * \n",
    "    Exercício 01\n",
    "    Você é desafiado a criar uma classe em Java chamada ExercicioVariaveis que declare e inicialize variáveis de todos os tipos primitivos disponíveis na linguagem Java. Além disso, a classe deve utilizar caracteres especiais em algumas strings para demonstrar o uso adequado desses caracteres.\n",
    "\n",
    "    Siga as instruções abaixo:\n",
    "\n",
    "    Declare e inicialize variáveis dos seguintes tipos primitivos:\n",
    "    int\n",
    "    long\n",
    "    float\n",
    "    double\n",
    "    char\n",
    "    boolean\n",
    "    byte\n",
    "    short\n",
    "    Exiba os valores das variáveis utilizando System.out.println.\n",
    "    Utilize caracteres especiais em algumas strings para representar:\n",
    "    Caractere de nova linha (\\n)\n",
    "    Caractere de tabulação (\\t)\n",
    "    Caractere de aspas duplas (\")\n",
    "    Caractere de barra invertida (\\)\n",
    "\n",
    "    Certifique-se de que o código compila e execute corretamente.\n",
    " */\n",
    "// public class ExercicioVariaveis{\n",
    "//     public static void main(String[] args) {\n",
    "        int i = 51;\n",
    "        long l = 3l;\n",
    "        float f = 3.4f;\n",
    "        double d = 3.4;\n",
    "        char c = (char)i;\n",
    "        boolean bool = true; \n",
    "        byte b = (byte) c;\n",
    "        short s = 3;\n",
    "\n",
    "        System.out.println(\"1ª Parte: \");\n",
    "\n",
    "        System.out.println(i);\n",
    "        System.out.println(l);\n",
    "        System.out.println(f);\n",
    "        System.out.println(d);\n",
    "        System.out.println(c);\n",
    "        System.out.println(bool);\n",
    "        System.out.println(b);\n",
    "        System.out.println(s);\n",
    "    \n",
    "        System.out.println(\"\\n2ª Parte: \");\n",
    "    \n",
    "        System.out.println(\"\\tO uso de determinados caracteres é importante para facilitar a leitura de determinadas strings. \\nEsses caracteres são: \\\"\\\\n\\\",\" + //\n",
    "                        \"\\\"\\\\t\\\" etc...\");\n",
    "\n",
    "        \n",
    "//     }\n",
    "// }"
   ]
  },
  {
   "cell_type": "markdown",
   "id": "6a091ea4-7160-4a68-8e27-516281cdde44",
   "metadata": {},
   "source": [
    "# Exercício 02\n",
    "\n",
    "<p style=\"text-align:justify;\">\n",
    "Crie uma classe que efetue a leitura de um valor inteiro e outro real, exibindo-os no console.\n",
    "</p>\n"
   ]
  },
  {
   "cell_type": "code",
   "execution_count": 2,
   "id": "b1fc1c9c-1041-4489-ab5a-c6dbb117c46e",
   "metadata": {
    "tags": []
   },
   "outputs": [
    {
     "name": "stdout",
     "output_type": "stream",
     "text": [
      "Informe um valor inteiro: "
     ]
    },
    {
     "name": "stdin",
     "output_type": "stream",
     "text": [
      " 3\n"
     ]
    },
    {
     "name": "stdout",
     "output_type": "stream",
     "text": [
      "Informe um valor double : "
     ]
    },
    {
     "name": "stdin",
     "output_type": "stream",
     "text": [
      " 3.5\n"
     ]
    },
    {
     "name": "stdout",
     "output_type": "stream",
     "text": [
      "Os números informados foram: 3; 3.50\n"
     ]
    },
    {
     "data": {
      "text/plain": [
       "null"
      ]
     },
     "execution_count": 2,
     "metadata": {},
     "output_type": "execute_result"
    }
   ],
   "source": [
    "/**\n",
    " * IFPR - Instituto Federal do Paraná\n",
    " * Professor: Nelson Bellincanta Filho\n",
    " * Aluno: Willian dos Santos\n",
    " * Curso: TADS\n",
    " * Ano: 2º ano\n",
    "    Exercício 02\n",
    "    Crie uma classe que efetue a leitura de um valor inteiro e outro real, exibindo-os no console.\n",
    " \n",
    " */\n",
    "import java.util.Scanner;\n",
    "// public class Ex02 {\n",
    "//     public static void main(String[] args) {\n",
    "        Scanner sc = new Scanner(System.in);\n",
    "        int i;\n",
    "        double d;\n",
    "\n",
    "        System.out.print(\"Informe um valor inteiro: \");\n",
    "        i = sc.nextInt();\n",
    "        System.out.print(\"Informe um valor double : \");\n",
    "        d = sc.nextDouble();\n",
    "        \n",
    "        sc.close();\n",
    "        \n",
    "        System.out.printf(\"Os números informados foram: %d; %.2f\\n\", i, d);\n",
    "//     }\n",
    "// }\n"
   ]
  },
  {
   "cell_type": "markdown",
   "id": "f4fa7c5f-f375-4dbd-9d41-c29e4aa530b8",
   "metadata": {},
   "source": [
    "# Exercício 03\n",
    "\n",
    "<p style=\"text-align:justify;\">\n",
    "Crie uma classe que receba o valor de um produto e a porcentagem de desconto, calcule e mostre o valor do desconto e o valor do produto com o desconto. \n",
    "</p>\n",
    "\n",
    "- Observação: o valor do desconto é calculado por meio da fórmula: \n",
    "    valor do desconto = valor do produto * percentual de desconto / 100."
   ]
  },
  {
   "cell_type": "code",
   "execution_count": 3,
   "id": "27572059-80fa-4edc-8b68-8a278f44beb2",
   "metadata": {
    "tags": []
   },
   "outputs": [
    {
     "name": "stdout",
     "output_type": "stream",
     "text": [
      "\tLOJINHA\n",
      "Informe o valor do produto --------: "
     ]
    },
    {
     "name": "stdin",
     "output_type": "stream",
     "text": [
      " 100\n"
     ]
    },
    {
     "name": "stdout",
     "output_type": "stream",
     "text": [
      "Informe a porcentagem de desconto -: "
     ]
    },
    {
     "name": "stdin",
     "output_type": "stream",
     "text": [
      " 10\n"
     ]
    },
    {
     "name": "stdout",
     "output_type": "stream",
     "text": [
      "Preço sem desconto: R$100.00\n",
      "Preço com desconto: R$90.00\n",
      "Valor do desconto : 10.00%\n"
     ]
    },
    {
     "data": {
      "text/plain": [
       "null"
      ]
     },
     "execution_count": 3,
     "metadata": {},
     "output_type": "execute_result"
    }
   ],
   "source": [
    "import java.util.Scanner;\n",
    "\n",
    "/**\n",
    " * IFPR - Instituto Federal do Paraná\n",
    " * Professor: Nelson Bellincanta Filho\n",
    " * Aluno: Willian dos Santos\n",
    " * Curso: TADS\n",
    " * Ano: 2º ano\n",
    " * \n",
    "    Exercício 03\n",
    "    Crie uma classe que receba o valor de um produto e a porcentagem de desconto, calcule e mostre o valor do desconto e o valor do produto com o desconto.\n",
    "\n",
    "    Observação: o valor do desconto é calculado por meio da fórmula: valor do desconto = valor do produto * percentual de desconto / 100. \n",
    "*/\n",
    "\n",
    " // public class Ex03 {\n",
    " //    public static void main(String[] args) {\n",
    "        Scanner sc = new Scanner(System.in);\n",
    "        float valor, pd;\n",
    "        System.out.println(\"\\tLOJINHA\");\n",
    "        System.out.print(\"Informe o valor do produto --------: \");\n",
    "        valor = sc.nextFloat();\n",
    "        System.out.print(\"Informe a porcentagem de desconto -: \");\n",
    "        pd = sc.nextFloat();\n",
    "        sc.close();\n",
    "        System.out.printf(\"Preço sem desconto: R$%.2f\\n\", valor);\n",
    "        System.out.printf(\"Preço com desconto: R$%.2f\\n\", valor - valor*pd/100);\n",
    "        System.out.printf(\"Valor do desconto : %.2f%%\\n\", pd);\n",
    "//     }\n",
    "// }\n"
   ]
  },
  {
   "cell_type": "markdown",
   "id": "9fe1c075-7e1e-4ee7-ad63-82c57f315026",
   "metadata": {},
   "source": [
    "# Exercício 04\n",
    "\n",
    "<p style=\"text-align:justify;\">\n",
    "Crie uma classe que receba dois valores inteiros. \n",
    "</p>\n",
    "\n",
    "- O primeiro valor corresponde à quantidade de pontos do líder do campeonato brasileiro de futebol. \n",
    "\n",
    "- O segundo valor corresponde à quantidade de pontos do time lanterna. \n",
    "\n",
    "<p style=\"text-align:justify;\">\n",
    "- Considerando que cada vitória vale 3 pontos, calcule o número de vitórias necessárias para que o time lanterna alcance (ou ultrapasse) o líder. \n",
    "    \n",
    "- Por exemplo, supondo que as quantidades de ponto fornecidas sejam 40 e 22, então o número de vitórias apresentada na saída deverá ser 6, pois (40-22) / 3 = 6.\n",
    "</p>"
   ]
  },
  {
   "cell_type": "code",
   "execution_count": 4,
   "id": "5914c0ce-a615-4b29-804e-ef33d0791bcc",
   "metadata": {
    "tags": []
   },
   "outputs": [
    {
     "name": "stdout",
     "output_type": "stream",
     "text": [
      "Pontuação time líder ----: "
     ]
    },
    {
     "name": "stdin",
     "output_type": "stream",
     "text": [
      " 42\n"
     ]
    },
    {
     "name": "stdout",
     "output_type": "stream",
     "text": [
      "Pontuação time lanterna -: "
     ]
    },
    {
     "name": "stdin",
     "output_type": "stream",
     "text": [
      " 24\n"
     ]
    },
    {
     "name": "stdout",
     "output_type": "stream",
     "text": [
      "O time lanterna precisa de 6 vitórias para alcançar o time líder\n"
     ]
    },
    {
     "data": {
      "text/plain": [
       "null"
      ]
     },
     "execution_count": 4,
     "metadata": {},
     "output_type": "execute_result"
    }
   ],
   "source": [
    "import java.util.Scanner;\n",
    "\n",
    "/**\n",
    " * IFPR - Instituto Federal do Paraná\n",
    " * Professor: Nelson Bellincanta Filho\n",
    " * Aluno: Willian dos Santos\n",
    " * Curso: TADS\n",
    " * Ano: 2º ano\n",
    " * \n",
    "    Exercício 04\n",
    "    Crie uma classe que receba dois valores inteiros.\n",
    "\n",
    "    O primeiro valor corresponde à quantidade de pontos do líder do campeonato brasileiro de futebol.\n",
    "\n",
    "    O segundo valor corresponde à quantidade de pontos do time lanterna.\n",
    "\n",
    "    - Considerando que cada vitória vale 3 pontos, calcule o número de vitórias necessárias para que o time lanterna alcance (ou ultrapasse) o líder.\n",
    "\n",
    "    Por exemplo, supondo que as quantidades de ponto fornecidas sejam 40 e 22, então o número de vitórias apresentada na saída deverá ser 6, pois (40-22) / 3 = 6\n",
    " */\n",
    "\n",
    "// public class Ex04 {\n",
    "//     public static void main(String[] args) {\n",
    "        Scanner sc = new Scanner(System.in);\n",
    "        int n1, n2;\n",
    "        System.out.print(\"Pontuação time líder ----: \");\n",
    "        n1 = sc.nextInt();\n",
    "        System.out.print(\"Pontuação time lanterna -: \");\n",
    "        n2 = sc.nextInt();\n",
    "        sc.close();\n",
    "\n",
    "        if(n1>n2)\n",
    "            System.out.printf(\"O time lanterna precisa de %d vitórias para alcançar o time líder\\n\", (n1-n2)/3);\n",
    "        else\n",
    "            System.out.printf(\"O time lanterna já ultrapassou o time líder\\n\");\n",
    "//     }    \n",
    "// }\n"
   ]
  },
  {
   "cell_type": "markdown",
   "id": "4633896c-66f1-4a5c-84f4-de80d09b3a6b",
   "metadata": {},
   "source": [
    "# Exercício 05\n",
    "\n",
    "<p style=\"text-align:justify;\">\n",
    "Escreva instruções para realizar cada uma das tarefas a seguir:\n",
    "\n",
    "1. Declare que as variáveis c, thisIsAVariable, q76354 e number serão do tipo int.\n",
    "\n",
    "2. Solicite que o usuário insira um inteiro.\n",
    "\n",
    "3. Insira um inteiro e atribua o resultado à variável int value. Suponha que a variável Scanner input possa ser utilizada para ler um valor digitado pelo usuário.\n",
    "\n",
    "4. Imprima “Este é um programa em Java\" em uma linha na janela de comando. Use o método System.out.println.\n",
    "\n",
    "5. Imprima “Este é um programa em Java\" em duas linhas na janela de comando. Utilize o método System.out.printf e dois especificadores de formato %s.\n",
    "</p>\n"
   ]
  },
  {
   "cell_type": "code",
   "execution_count": 5,
   "id": "afcaa8cd-9d0d-412b-9aa0-11145238c686",
   "metadata": {
    "tags": []
   },
   "outputs": [
    {
     "name": "stdout",
     "output_type": "stream",
     "text": [
      "Insira um número inteiro: "
     ]
    },
    {
     "name": "stdin",
     "output_type": "stream",
     "text": [
      " 3\n"
     ]
    },
    {
     "name": "stdout",
     "output_type": "stream",
     "text": [
      "Este é um programa em Java\n",
      "Este é um programa em Java\n"
     ]
    },
    {
     "data": {
      "text/plain": [
       "null"
      ]
     },
     "execution_count": 5,
     "metadata": {},
     "output_type": "execute_result"
    }
   ],
   "source": [
    "import java.util.Scanner;\n",
    "\n",
    "/**\n",
    " * IFPR - Instituto Federal do Paraná\n",
    " * Professor: Nelson Bellincanta Filho\n",
    " * Aluno: Willian dos Santos\n",
    " * Curso: TADS\n",
    " * Ano: 2º ano\n",
    " * \n",
    "    Exercício 05\n",
    "    Escreva instruções para realizar cada uma das tarefas a seguir:\n",
    "\n",
    "    Declare que as variáveis c, thisIsAVariable, q76354 e number serão do tipo int.\n",
    "\n",
    "    Solicite que o usuário insira um inteiro.\n",
    "\n",
    "    Insira um inteiro e atribua o resultado à variável int value. Suponha que a variável Scanner input possa ser utilizada para ler um valor digitado pelo usuário.\n",
    "\n",
    "    Imprima “Este é um programa em Java\" em uma linha na janela de comando. Use o método System.out.println.\n",
    "\n",
    "    Imprima “Este é um programa em Java\" em duas linhas na janela de comando. Utilize o método System.out.printf e dois especificadores de formato %s.\n",
    " */\n",
    "// public class Ex05 {\n",
    "//     public static void main(String[] args) {\n",
    "        Scanner input = new Scanner(System.in);\n",
    "        //Declare que as variáveis c, thisIsAVariable, q76354 e number serão do tipo int.\n",
    "        int c, thisIsAVariable, q76354;\n",
    "\n",
    "        //Solicite que o usuário insira um inteiro.\n",
    "        System.out.print(\"Insira um número inteiro: \");\n",
    "       \n",
    "        //Insira um inteiro e atribua o resultado à variável int value. Suponha que a variável Scanner input possa ser utilizada para ler um valor digitado pelo usuário.\n",
    "        int valor = input.nextInt();\n",
    "        input.close();\n",
    "\n",
    "        //Imprima “Este é um programa em Java\" em uma linha na janela de comando. Use o método System.out.println.\n",
    "        System.out.println(\"Este é um programa em Java\");\n",
    "\n",
    "        System.out.printf(\"%s\", \"Este é um programa\");\n",
    "        System.out.printf(\" %s\\n\", \"em Java\");\n",
    "//     }    \n",
    "// }\n"
   ]
  },
  {
   "cell_type": "markdown",
   "id": "42906d7e-d01b-49b2-bfef-ed4fdd6dab07",
   "metadata": {},
   "source": [
    "# Exercício 06 \n",
    "<p style=\"text-align:justify;\">\n",
    "Crie uma classe que solicite ao usuário inserir dois inteiros, obtenha dele esses números e imprima sua soma, produto, diferença e quociente (divisão).\n",
    "</p>"
   ]
  },
  {
   "cell_type": "code",
   "execution_count": 6,
   "id": "68cc1699-d585-40ea-b0d4-edd278538f20",
   "metadata": {
    "tags": []
   },
   "outputs": [
    {
     "name": "stdout",
     "output_type": "stream",
     "text": [
      "Informe dois números inteiros, sendo o 2º diferente de 0:\n",
      "1º: "
     ]
    },
    {
     "name": "stdin",
     "output_type": "stream",
     "text": [
      " 3\n"
     ]
    },
    {
     "name": "stdout",
     "output_type": "stream",
     "text": [
      "2º: "
     ]
    },
    {
     "name": "stdin",
     "output_type": "stream",
     "text": [
      " 2\n"
     ]
    },
    {
     "name": "stdout",
     "output_type": "stream",
     "text": [
      "Soma     : 5\n",
      "Produto  : 6\n",
      "Diferença: 1\n",
      "Quociente: 1.00\n"
     ]
    },
    {
     "data": {
      "text/plain": [
       "null"
      ]
     },
     "execution_count": 6,
     "metadata": {},
     "output_type": "execute_result"
    }
   ],
   "source": [
    "/**\n",
    " * IFPR - Instituto Federal do Paraná\n",
    " * Professor: Nelson Bellincanta Filho\n",
    " * Aluno: Willian dos Santos\n",
    " * Curso: TADS\n",
    " * Ano: 2º ano\n",
    " * \n",
    "    Exercício 06\n",
    "    Crie uma classe que solicite ao usuário inserir dois inteiros, obtenha dele esses números e imprima sua soma, produto, diferença e quociente (divisão).    \n",
    " */\n",
    "\n",
    "import java.util.Scanner;\n",
    "\n",
    "// public class Ex06 {\n",
    "//     public static void main(String[] args) {\n",
    "        Scanner sc = new Scanner(System.in);\n",
    "        int n1,n2;\n",
    "        System.out.println(\"Informe dois números inteiros, sendo o 2º diferente de 0:\");\n",
    "        System.out.print(\"1º: \");\n",
    "        n1 = sc.nextInt();\n",
    "        System.out.print(\"2º: \");\n",
    "        n2 = sc.nextInt();\n",
    "        sc.close();\n",
    "        \n",
    "        System.out.printf(\"Soma     : %d\\n\", (n1+n2));\n",
    "        System.out.printf(\"Produto  : %d\\n\", (n1*n2));\n",
    "        System.out.printf(\"Diferença: %d\\n\", (n1-n2));\n",
    "        System.out.printf(\"Quociente: %.2f\\n\", (float)(n1/n2));\n",
    "//     }\n",
    "// }\n"
   ]
  },
  {
   "cell_type": "markdown",
   "id": "db7c7f2a-c557-430a-ade4-8252198f95b5",
   "metadata": {},
   "source": [
    "# Exercício 07 \n",
    "\n",
    "Declare uma classe para calcular o produto de três inteiros.\n",
    "\n",
    "Siga as instruções abaixo:\n",
    "\n",
    "1. Crie um Scanner chamado input que leia valores a partir da entrada padrão.\n",
    "2. Declare as variáveis x, y, z e result como tipo int.\n",
    "3. Solicite que o usuário insira o primeiro inteiro.\n",
    "4. Leia o primeiro inteiro digitado pelo usuário e armazene-o na variável x.\n",
    "5. Solicite que o usuário insira o segundo inteiro.\n",
    "6. Leia o segundo inteiro digitado pelo usuário e armazene-o na variável y.\n",
    "7. Solicite que o usuário insira o terceiro inteiro.\n",
    "8. Leia o terceiro inteiro digitado pelo usuário e armazene-o na variável z.\n",
    "9. Compute o produto dos três inteiros contidos nas variáveis x, y e z e atribua o resultado à variável result.\n",
    "19. Use System.out.printf para exibir a mensagem “O valor do produto é” seguida pelo valor da variável result. "
   ]
  },
  {
   "cell_type": "code",
   "execution_count": 7,
   "id": "c421ee60-57dd-4674-8436-2e43e758e4f1",
   "metadata": {
    "tags": []
   },
   "outputs": [
    {
     "name": "stdout",
     "output_type": "stream",
     "text": [
      "Informe o 1° número inteiro: "
     ]
    },
    {
     "name": "stdin",
     "output_type": "stream",
     "text": [
      " 2\n"
     ]
    },
    {
     "name": "stdout",
     "output_type": "stream",
     "text": [
      "Informe o 2° número inteiro: "
     ]
    },
    {
     "name": "stdin",
     "output_type": "stream",
     "text": [
      " 4\n"
     ]
    },
    {
     "name": "stdout",
     "output_type": "stream",
     "text": [
      "Informe o 3° número inteiro: "
     ]
    },
    {
     "name": "stdin",
     "output_type": "stream",
     "text": [
      " 8\n"
     ]
    },
    {
     "name": "stdout",
     "output_type": "stream",
     "text": [
      "o valor do produto é: 64"
     ]
    },
    {
     "data": {
      "text/plain": [
       "null"
      ]
     },
     "execution_count": 7,
     "metadata": {},
     "output_type": "execute_result"
    }
   ],
   "source": [
    "/**\n",
    " * IFPR - Instituto Federal do Paraná\n",
    " * Professor: Nelson Bellincanta Filho\n",
    " * Aluno: Willian dos Santos\n",
    " * Curso: TADS\n",
    " * Ano: 2º ano\n",
    " * \n",
    "    Exercício 07\n",
    "    Declare uma classe para calcular o produto de três inteiros.\n",
    "\n",
    "    Siga as instruções abaixo:\n",
    "\n",
    "    Crie um Scanner chamado input que leia valores a partir da entrada padrão.\n",
    "    Declare as variáveis x, y, z e result como tipo int.\n",
    "    Solicite que o usuário insira o primeiro inteiro.\n",
    "    Leia o primeiro inteiro digitado pelo usuário e armazene-o na variável x.\n",
    "    Solicite que o usuário insira o segundo inteiro.\n",
    "    Leia o segundo inteiro digitado pelo usuário e armazene-o na variável y.\n",
    "    Solicite que o usuário insira o terceiro inteiro.\n",
    "    Leia o terceiro inteiro digitado pelo usuário e armazene-o na variável z.\n",
    "    Compute o produto dos três inteiros contidos nas variáveis x, y e z e atribua o resultado à variável result.\n",
    "    Use System.out.printf para exibir a mensagem “O valor do produto é” seguida pelo valor da variável result.    \n",
    " */\n",
    "import java.util.Scanner;\n",
    "\n",
    "// public class Ex07 {\n",
    "//     public static void main(String[] args) {\n",
    "        Scanner input = new Scanner(System.in);\n",
    "        int x,y,z,result;\n",
    "\n",
    "        System.out.print(\"Informe o 1° número inteiro: \");\n",
    "        x = input.nextInt();\n",
    "        System.out.print(\"Informe o 2° número inteiro: \");\n",
    "        y = input.nextInt();\n",
    "        System.out.print(\"Informe o 3° número inteiro: \");\n",
    "        z = input.nextInt();\n",
    "        input.close();\n",
    "\n",
    "        result = x*y*z;\n",
    "\n",
    "        System.out.printf(\"o valor do produto é: %d\", result);\n",
    "//     }\n",
    "// }\n"
   ]
  }
 ],
 "metadata": {
  "kernelspec": {
   "display_name": "Java",
   "language": "java",
   "name": "java"
  },
  "language_info": {
   "codemirror_mode": "text/x-java",
   "file_extension": ".java",
   "mimetype": "",
   "name": "Java",
   "nbconverter_exporter": "",
   "version": "1.8.0_121"
  }
 },
 "nbformat": 4,
 "nbformat_minor": 5
}
