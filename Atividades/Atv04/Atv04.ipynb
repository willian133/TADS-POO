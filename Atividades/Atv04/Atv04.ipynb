{
 "cells": [
  {
   "cell_type": "markdown",
   "id": "c7ee3289-9b4f-4614-be87-f28d14196dc5",
   "metadata": {},
   "source": [
    "# Exercício 01\n",
    "<p style=\"text-align:justify;\">\n",
    "Crie um programa que armazene um vetor com as notas de dez alunos, calcule e imprima a média dessas notas e depois informe a quantidade de notas acima e abaixo da média calculada.\n",
    "</p>"
   ]
  },
  {
   "cell_type": "code",
   "execution_count": 1,
   "id": "ff67e1a8-6e02-4bc6-b061-51aaed7c7caa",
   "metadata": {
    "tags": []
   },
   "outputs": [
    {
     "name": "stdout",
     "output_type": "stream",
     "text": [
      "Nota01\t|\tNota02\t|\tNota03\t|\tNota04\t|\tMédia\n",
      "      \t|\t      \t|\t      \t|\t      \t|\t      \n",
      "10.00\t|\t9.00\t|\t9.50\t|\t10.00\t|\t9.63\n",
      "9.50\t|\t8.00\t|\t7.00\t|\t9.00\t|\t8.38\n",
      "10.00\t|\t10.00\t|\t9.00\t|\t9.00\t|\t9.50\n",
      "10.00\t|\t5.00\t|\t9.00\t|\t8.00\t|\t8.00\n",
      "6.00\t|\t7.00\t|\t5.00\t|\t6.00\t|\t6.00\n",
      "3.00\t|\t3.50\t|\t7.00\t|\t5.00\t|\t4.63\n",
      "7.00\t|\t9.00\t|\t5.00\t|\t10.00\t|\t7.75\n",
      "8.00\t|\t7.00\t|\t2.00\t|\t5.00\t|\t5.50\n",
      "10.00\t|\t8.00\t|\t7.00\t|\t9.00\t|\t8.50\n",
      "7.00\t|\t6.00\t|\t5.00\t|\t8.00\t|\t6.50\n"
     ]
    },
    {
     "data": {
      "text/plain": [
       "null"
      ]
     },
     "execution_count": 1,
     "metadata": {},
     "output_type": "execute_result"
    }
   ],
   "source": [
    "/**\n",
    " * IFPR - Instituto Federal do Paraná\n",
    " * Professor: Nelson Bellincanta Filho\n",
    " * Aluno: Willian dos Santos\n",
    " * Curso: TADS\n",
    " * Ano: 2º ano\n",
    " *\n",
    " *  Exercício 01\n",
    "Crie um programa que armazene um vetor com as notas de dez alunos, calcule e imprima a média dessas notas e depois informe a quantidade de notas acima e abaixo da média calculada.\n",
    " */\n",
    "// public class Exercicio01{\n",
    "//     public static void main(String[] args) {\n",
    "        double notas[][] = {\n",
    "            {10, 9, 9.5, 10},\n",
    "            {9.5, 8, 7, 9},\n",
    "            {10, 10, 9, 9},\n",
    "            {10, 5, 9, 8},\n",
    "            {6, 7, 5, 6},\n",
    "            {3, 3.5, 7, 5},\n",
    "            {7, 9, 5, 10},\n",
    "            {8, 7, 2, 5},\n",
    "            {10, 8, 7, 9},\n",
    "            {7, 6, 5, 8}\n",
    "        };\n",
    "\n",
    "        double medias[] = new double[notas.length];\n",
    "\n",
    "        for(int r=0; r<notas.length; r++){\n",
    "            double media = 0;\n",
    "            for(int c=0; c<notas[r].length; c++){\n",
    "                media+= notas[r][c];\n",
    "            }\n",
    "            if(notas[r].length>0)media = media/notas[r].length;\n",
    "            medias[r] = media;\n",
    "        }\n",
    "        System.out.printf(\"Nota01\\t|\\tNota02\\t|\\tNota03\\t|\\tNota04\\t|\\tMédia\\n\");\n",
    "        System.out.printf(\"      \\t|\\t      \\t|\\t      \\t|\\t      \\t|\\t      \\n\");\n",
    "        for(int r=0; r<notas.length; r++){\n",
    "            for(int c=0; c<notas[r].length; c++){\n",
    "                System.out.printf(\"%02.2f\\t|\\t\", notas[r][c]);\n",
    "            }\n",
    "            System.out.printf(\"%02.2f\\n\", medias[r]);\n",
    "        }\n",
    "\n",
    "        \n",
    "//     }\n",
    "// }"
   ]
  },
  {
   "cell_type": "markdown",
   "id": "f55a5fce-412b-40a9-abcb-008951e349ae",
   "metadata": {},
   "source": [
    "# Exercício 02\n",
    "<p style=\"text-align:justify;\">\n",
    "Construa uma classe em Java que seja capaz de efetuar a leitura de uma matriz de valores reais de tamanho 3 x 3, calculando seu determinante.\n",
    "</p>"
   ]
  },
  {
   "cell_type": "code",
   "execution_count": 4,
   "id": "f3140b7a-9ec1-4421-8c76-38520f87d539",
   "metadata": {
    "tags": []
   },
   "outputs": [
    {
     "name": "stdin",
     "output_type": "stream",
     "text": [
      " 1 9 5 3 7 8 10 4 2\n"
     ]
    },
    {
     "name": "stdout",
     "output_type": "stream",
     "text": [
      "dp: 794.00\tds: 436.00\tDet: 358.00\n"
     ]
    },
    {
     "data": {
      "text/plain": [
       "null"
      ]
     },
     "execution_count": 4,
     "metadata": {},
     "output_type": "execute_result"
    }
   ],
   "source": [
    "import java.util.Scanner;\n",
    "\n",
    "/**\n",
    " * IFPR - Instituto Federal do Paraná\n",
    " * Professor: Nelson Bellincanta Filho\n",
    " * Aluno: Willian dos Santos\n",
    " * Curso: TADS\n",
    " * Ano: 2º ano\n",
    " *\n",
    " *  Exercício 02\n",
    "Construa uma classe em Java que seja capaz de efetuar a leitura de uma matriz de valores reais de tamanho 3 x 3, calculando seu determinante.\n",
    " */\n",
    "// public class Exercicio02{\n",
    "//     public static void main(String[] args) {\n",
    "        double[][] matriz = new double[3][3];\n",
    "        Scanner sc = new Scanner(System.in);\n",
    "\n",
    "        // matriz = new double[][]{\n",
    "        //     {1, 9, 5},\n",
    "        //     {3, 7, 8},\n",
    "        //     {10, 4, 2}\n",
    "        // };//D = 358\n",
    "        // matriz = new double[][]{\n",
    "        //     {1, 3, 2},\n",
    "        //     {-1, 0, -2},\n",
    "        //     {2, 5, 1}\n",
    "        // };//D = -9\n",
    "        for(int r=0; r<matriz.length; r++){\n",
    "            for(int c=0; c<matriz[r].length; c++){\n",
    "                matriz[r][c] = sc.nextDouble();\n",
    "            }\n",
    "        }\n",
    "        double ds=0, dp=0;\n",
    "        for(int r=0; r<matriz.length; r++){\n",
    "            double cont_ds=1, cont_dp=1;\n",
    "            for(int c=0; c<matriz[r].length; c++){\n",
    "                cont_dp*=matriz[c][(r+c)%matriz[r].length];\n",
    "                cont_ds*=matriz[matriz.length-c-1][(r+c)%matriz[r].length];\n",
    "            }\n",
    "            dp+=cont_dp;\n",
    "            ds+=cont_ds;\n",
    "        }\n",
    "        sc.close();\n",
    "        System.out.printf(\"dp: %.2f\\tds: %.2f\\tDet: %.2f\\n\", dp, ds, dp-ds);\n",
    "\n",
    "//     }\n",
    "// }\n"
   ]
  },
  {
   "cell_type": "markdown",
   "id": "7b9c1eef-464a-475c-b264-819c862a09bb",
   "metadata": {},
   "source": [
    "# Exercício 03\n",
    "<p style=\"text-align:justify;\">\n",
    "Faça uma classe contendo dois arrays do tipo inteiro, um chamado par e outro chamado ímpar. Cada array deve conter 10 elementos. A seguir, faça um laço de repetição com 10 iterações e que contenha internamente a geração randômica de números entre 1 e 20. Se o valor gerado for par, armazene no array chamado par, caso contrário, no array chamado impar. Ao final, apresente o conteúdo de cada um dos arrays.\n",
    "</p>"
   ]
  },
  {
   "cell_type": "code",
   "execution_count": 7,
   "id": "fe785da1-2ff1-4bd7-ab26-b007dcf05fc1",
   "metadata": {
    "tags": []
   },
   "outputs": [
    {
     "name": "stdout",
     "output_type": "stream",
     "text": [
      "Par:\n",
      "14\t16\t08\t16\t12\t00\t00\t00\t00\t00\t\n",
      "Ímpar:\n",
      "11\t15\t01\t11\t07\t00\t00\t00\t00\t00\t\n"
     ]
    },
    {
     "data": {
      "text/plain": [
       "null"
      ]
     },
     "execution_count": 7,
     "metadata": {},
     "output_type": "execute_result"
    }
   ],
   "source": [
    "/**\n",
    " * IFPR - Instituto Federal do Paraná\n",
    " * Professor: Nelson Bellincanta Filho\n",
    " * Aluno: Willian dos Santos\n",
    " * Curso: TADS\n",
    " * Ano: 2º ano\n",
    " *\n",
    " *  Exercício 03\n",
    "Faça uma classe contendo dois arrays do tipo inteiro, um chamado par e outro chamado ímpar. Cada array deve conter 10 elementos. A seguir, faça um laço de repetição com 10 iterações e que contenha internamente a geração randômica de números entre 1 e 20. Se o valor gerado for par, armazene no array chamado par, caso contrário, no array chamado impar. Ao final, apresente o conteúdo de cada um dos arrays.\n",
    " */\n",
    "// public class Exercicio03{\n",
    "//     public static void main(String[] args) {\n",
    "        int[] par = new int[10], impar = new int[10];\n",
    "\n",
    "        int c_par=0, c_impar=0;\n",
    "        for(int i=0; i<10; i++){\n",
    "            int num = (int)(Math.random()*20)+1;\n",
    "            if(num%2==0){\n",
    "                par[c_par++]=num;\n",
    "            }else{\n",
    "                impar[c_impar++]=num;\n",
    "            }\n",
    "        }\n",
    "        System.out.println(\"Par:\");\n",
    "        for(int i=0; i<par.length;i++)\n",
    "            System.out.printf(\"%02d\\t\", par[i]);\n",
    "        System.out.println();\n",
    "        System.out.println(\"Ímpar:\");\n",
    "        for(int i=0; i<impar.length;i++)\n",
    "            System.out.printf(\"%02d\\t\", impar[i]);\n",
    "        System.out.println();\n",
    "//     }\n",
    "// }"
   ]
  },
  {
   "cell_type": "markdown",
   "id": "d062d462-4a98-4e65-8f3b-fe9c1a8e677e",
   "metadata": {},
   "source": [
    "# Exercício 04\n",
    "<p style=\"text-align:justify;\">\n",
    "Usando um array unidimensional de 10 elementos do tipo String, faça uma classe que simule a ocupação de um estacionamento de veículos. Considere que a posição do array corresponde ao número da vaga e para cada vaga é armazenada a placa do veículo que está estacionado. Sua classe deve conter um laço de repetição simulando um menu que controle a entrada e a saída dos veículos com as opções: 1-Entrada, 2-Saída e 3-Listar situação atual e 4-Encerrar o programa. Se o usuário escolher 1, solicite o número da vaga e a placa do veículo; se escolher 2, solicite o número da vaga que será liberada e armazene o valor branco na posição correspondente ao array; se escolher 3, liste a situação atual apresentando em tela todos os elementos do array; quando for 4, encerre o laço e o programa.\n",
    "</p>"
   ]
  },
  {
   "cell_type": "code",
   "execution_count": 9,
   "id": "64874188-7345-4348-8a4e-e9cb50d04ab2",
   "metadata": {
    "tags": []
   },
   "outputs": [
    {
     "name": "stdout",
     "output_type": "stream",
     "text": [
      "\n",
      "\t\t\tMENU\n",
      "1- Entrada\n",
      "2- Saída\n",
      "3- Listar situação Atual\n",
      "4- Encerrar o programa\n",
      "\n"
     ]
    },
    {
     "name": "stdin",
     "output_type": "stream",
     "text": [
      " 1\n"
     ]
    },
    {
     "name": "stdout",
     "output_type": "stream",
     "text": [
      "\n",
      "Informe o número da vaga a ser selecinada [1, 10]: "
     ]
    },
    {
     "name": "stdin",
     "output_type": "stream",
     "text": [
      " 3\n"
     ]
    },
    {
     "name": "stdout",
     "output_type": "stream",
     "text": [
      "Informe a placa: "
     ]
    },
    {
     "name": "stdin",
     "output_type": "stream",
     "text": [
      " QBG-1823\n"
     ]
    },
    {
     "name": "stdout",
     "output_type": "stream",
     "text": [
      "Vaga preenchida!!\n",
      "-------------------------------------------------------------\n",
      "\n",
      "\t\t\tMENU\n",
      "1- Entrada\n",
      "2- Saída\n",
      "3- Listar situação Atual\n",
      "4- Encerrar o programa\n",
      "\n"
     ]
    },
    {
     "name": "stdin",
     "output_type": "stream",
     "text": [
      " 1\n"
     ]
    },
    {
     "name": "stdout",
     "output_type": "stream",
     "text": [
      "\n",
      "Informe o número da vaga a ser selecinada [1, 10]: "
     ]
    },
    {
     "name": "stdin",
     "output_type": "stream",
     "text": [
      " 3\n"
     ]
    },
    {
     "name": "stdout",
     "output_type": "stream",
     "text": [
      "QBG-1823\n",
      "Vaga já ocupada!\n",
      "-------------------------------------------------------------\n",
      "\n",
      "\t\t\tMENU\n",
      "1- Entrada\n",
      "2- Saída\n",
      "3- Listar situação Atual\n",
      "4- Encerrar o programa\n",
      "\n"
     ]
    },
    {
     "name": "stdin",
     "output_type": "stream",
     "text": [
      " 1\n"
     ]
    },
    {
     "name": "stdout",
     "output_type": "stream",
     "text": [
      "\n",
      "Informe o número da vaga a ser selecinada [1, 10]: "
     ]
    },
    {
     "name": "stdin",
     "output_type": "stream",
     "text": [
      " 10\n"
     ]
    },
    {
     "name": "stdout",
     "output_type": "stream",
     "text": [
      "Informe a placa: "
     ]
    },
    {
     "name": "stdin",
     "output_type": "stream",
     "text": [
      " JBA-1331\n"
     ]
    },
    {
     "name": "stdout",
     "output_type": "stream",
     "text": [
      "Vaga preenchida!!\n",
      "-------------------------------------------------------------\n",
      "\n",
      "\t\t\tMENU\n",
      "1- Entrada\n",
      "2- Saída\n",
      "3- Listar situação Atual\n",
      "4- Encerrar o programa\n",
      "\n"
     ]
    },
    {
     "name": "stdin",
     "output_type": "stream",
     "text": [
      " 3\n"
     ]
    },
    {
     "name": "stdout",
     "output_type": "stream",
     "text": [
      "\n",
      "Vaga\tPlaca\n",
      "01\t\"vazia\"\n",
      "02\t\"vazia\"\n",
      "03\t\"QBG-1823\"\n",
      "04\t\"vazia\"\n",
      "05\t\"vazia\"\n",
      "06\t\"vazia\"\n",
      "07\t\"vazia\"\n",
      "08\t\"vazia\"\n",
      "09\t\"vazia\"\n",
      "10\t\"JBA-1331\"\n",
      "-------------------------------------------------------------\n",
      "\n",
      "\t\t\tMENU\n",
      "1- Entrada\n",
      "2- Saída\n",
      "3- Listar situação Atual\n",
      "4- Encerrar o programa\n",
      "\n"
     ]
    },
    {
     "name": "stdin",
     "output_type": "stream",
     "text": [
      " 1\n"
     ]
    },
    {
     "name": "stdout",
     "output_type": "stream",
     "text": [
      "\n",
      "Informe o número da vaga a ser selecinada [1, 10]: "
     ]
    },
    {
     "name": "stdin",
     "output_type": "stream",
     "text": [
      " 11\n"
     ]
    },
    {
     "name": "stdout",
     "output_type": "stream",
     "text": [
      "Vaga inválida!\n",
      "-------------------------------------------------------------\n",
      "\n",
      "\t\t\tMENU\n",
      "1- Entrada\n",
      "2- Saída\n",
      "3- Listar situação Atual\n",
      "4- Encerrar o programa\n",
      "\n"
     ]
    },
    {
     "name": "stdin",
     "output_type": "stream",
     "text": [
      " 1\n"
     ]
    },
    {
     "name": "stdout",
     "output_type": "stream",
     "text": [
      "\n",
      "Informe o número da vaga a ser selecinada [1, 10]: "
     ]
    },
    {
     "name": "stdin",
     "output_type": "stream",
     "text": [
      " -1\n"
     ]
    },
    {
     "name": "stdout",
     "output_type": "stream",
     "text": [
      "Vaga inválida!\n",
      "-------------------------------------------------------------\n",
      "\n",
      "\t\t\tMENU\n",
      "1- Entrada\n",
      "2- Saída\n",
      "3- Listar situação Atual\n",
      "4- Encerrar o programa\n",
      "\n"
     ]
    },
    {
     "name": "stdin",
     "output_type": "stream",
     "text": [
      " 2\n"
     ]
    },
    {
     "name": "stdout",
     "output_type": "stream",
     "text": [
      "\n",
      "Informe o número da vaga a ser selecinada: "
     ]
    },
    {
     "name": "stdin",
     "output_type": "stream",
     "text": [
      " 10\n"
     ]
    },
    {
     "name": "stdout",
     "output_type": "stream",
     "text": [
      "Vaga esvaziada!\n",
      "-------------------------------------------------------------\n",
      "\n",
      "\t\t\tMENU\n",
      "1- Entrada\n",
      "2- Saída\n",
      "3- Listar situação Atual\n",
      "4- Encerrar o programa\n",
      "\n"
     ]
    },
    {
     "name": "stdin",
     "output_type": "stream",
     "text": [
      " 2\n"
     ]
    },
    {
     "name": "stdout",
     "output_type": "stream",
     "text": [
      "\n",
      "Informe o número da vaga a ser selecinada: "
     ]
    },
    {
     "name": "stdin",
     "output_type": "stream",
     "text": [
      " 10\n"
     ]
    },
    {
     "name": "stdout",
     "output_type": "stream",
     "text": [
      "Vaga esvaziada!\n",
      "-------------------------------------------------------------\n",
      "\n",
      "\t\t\tMENU\n",
      "1- Entrada\n",
      "2- Saída\n",
      "3- Listar situação Atual\n",
      "4- Encerrar o programa\n",
      "\n"
     ]
    },
    {
     "name": "stdin",
     "output_type": "stream",
     "text": [
      " 3\n"
     ]
    },
    {
     "name": "stdout",
     "output_type": "stream",
     "text": [
      "\n",
      "Vaga\tPlaca\n",
      "01\t\"vazia\"\n",
      "02\t\"vazia\"\n",
      "03\t\"QBG-1823\"\n",
      "04\t\"vazia\"\n",
      "05\t\"vazia\"\n",
      "06\t\"vazia\"\n",
      "07\t\"vazia\"\n",
      "08\t\"vazia\"\n",
      "09\t\"vazia\"\n",
      "10\t\"vazia\"\n",
      "-------------------------------------------------------------\n",
      "\n",
      "\t\t\tMENU\n",
      "1- Entrada\n",
      "2- Saída\n",
      "3- Listar situação Atual\n",
      "4- Encerrar o programa\n",
      "\n"
     ]
    },
    {
     "name": "stdin",
     "output_type": "stream",
     "text": [
      " 4\n"
     ]
    },
    {
     "name": "stdout",
     "output_type": "stream",
     "text": [
      "\n",
      "-------------------------------------------------------------\n"
     ]
    },
    {
     "data": {
      "text/plain": [
       "null"
      ]
     },
     "execution_count": 9,
     "metadata": {},
     "output_type": "execute_result"
    }
   ],
   "source": [
    "import java.util.Scanner;\n",
    "\n",
    "/**\n",
    " * IFPR - Instituto Federal do Paraná\n",
    " * Professor: Nelson Bellincanta Filho\n",
    " * Aluno: Willian dos Santos\n",
    " * Curso: TADS\n",
    " * Ano: 2º ano\n",
    " *\n",
    " *  Exercício 04\n",
    "Usando um array unidimensional de 10 elementos do tipo String, faça uma classe que simule a ocupação de um estacionamento de veículos. Considere que a posição do array corresponde ao número da vaga e para cada vaga é armazenada a placa do veículo que está estacionado. Sua classe deve conter um laço de repetição simulando um menu que controle a entrada e a saída dos veículos com as opções: 1-Entrada, 2-Saída e 3-Listar situação atual e 4-Encerrar o programa. Se o usuário escolher 1, solicite o número da vaga e a placa do veículo; se escolher 2, solicite o número da vaga que será liberada e armazene o valor branco na posição correspondente ao array; se escolher 3, liste a situação atual apresentando em tela todos os elementos do array; quando for 4, encerre o laço e o programa.\n",
    " */\n",
    "// public class Exercicio04{\n",
    "//     public static void main(String[] args) {\n",
    "        String[] arr = new String[10];\n",
    "        for(int i=0; i<arr.length; i++) arr[i]=\"\";\n",
    "\n",
    "        Scanner sc = new Scanner(System.in);\n",
    "\n",
    "        int acao, vaga;\n",
    "        do{\n",
    "            System.out.printf(\"\\n\\t\\t\\tMENU\\n\");\n",
    "            System.out.printf(\"1- Entrada\\n\");\n",
    "            System.out.printf(\"2- Saída\\n\");\n",
    "            System.out.printf(\"3- Listar situação Atual\\n\");\n",
    "            System.out.printf(\"4- Encerrar o programa\\n\");\n",
    "            System.out.println();\n",
    "\n",
    "            acao = sc.nextInt();\n",
    "            System.out.println();\n",
    "\n",
    "            switch (acao) {\n",
    "                case 1:\n",
    "                    System.out.print(\"Informe o número da vaga a ser selecinada [1, 10]: \");\n",
    "                    vaga = sc.nextInt()-1;\n",
    "                    sc.nextLine();\n",
    "                    if(vaga>=0 && vaga <10){\n",
    "                        if(arr[vaga].equals(\"\")){\n",
    "                            System.out.print(\"Informe a placa: \");\n",
    "                            arr[vaga] = sc.nextLine();\n",
    "                            System.out.println(\"Vaga preenchida!!\");\n",
    "                        }else{\n",
    "                            System.out.println(arr[vaga]);\n",
    "                            System.out.println(\"Vaga já ocupada!\");\n",
    "                        }\n",
    "                    }else{\n",
    "                        System.out.println(\"Vaga inválida!\");\n",
    "                    }\n",
    "                    break;\n",
    "                case 2:\n",
    "                    System.out.print(\"Informe o número da vaga a ser selecinada: \");\n",
    "                    vaga = sc.nextInt()-1;\n",
    "                    if(vaga>=0 && vaga <10){\n",
    "                        arr[vaga] = \"\";\n",
    "                        System.out.println(\"Vaga esvaziada!\");\n",
    "                    }else{\n",
    "                        System.out.println(\"Essa vaga não existe...\");\n",
    "                    }\n",
    "                \n",
    "                    break;\n",
    "                case 3:\n",
    "                    System.out.println(\"Vaga\\tPlaca\");\n",
    "                    for(int i=0; i<arr.length; i++){\n",
    "                        System.out.printf(\"%02d\\t\\\"%s\\\"\\n\", i+1, arr[i].equals(\"\")?\"vazia\":arr[i]);\n",
    "                    }\n",
    "                    break;\n",
    "                default:\n",
    "                    break;\n",
    "            }\n",
    "            System.out.println(\"-------------------------------------------------------------\");\n",
    "        }while(acao!=4);\n",
    "        sc.close();\n",
    "//     }\n",
    "// }\n"
   ]
  },
  {
   "cell_type": "markdown",
   "id": "c9fef6b4-44c6-468e-9384-0409416c0249",
   "metadata": {},
   "source": [
    "# Exercício 05\n",
    "<p style=\"text-align:justify;\">\n",
    "Uma imagem é formada por pixels. Considere uma imagem com dimensão de 40 x 40 e faça uma classe que contenha um array bidimensional com essas dimensões. A seguir, para cada posição\n",
    "desse array bidimensional armazene um valor aleatório entre 0 e 255 (esses valores correspondem às tonalidades aplicadas sobre a imagem). Apresente em tela os 1600 valores gerados.\n",
    "</p>"
   ]
  },
  {
   "cell_type": "code",
   "execution_count": 10,
   "id": "4147c7b9-502e-4105-953b-0ded7337f4b1",
   "metadata": {
    "tags": []
   },
   "outputs": [
    {
     "name": "stdout",
     "output_type": "stream",
     "text": [
      "198 167 084 078 203 143 112 226 218 152 243 246 231 067 191 197 203 033 074 213 088 253 243 027 071 189 083 145 179 232 077 197 088 227 037 025 217 099 236 038 \n",
      "120 202 200 197 058 139 048 054 027 023 220 237 058 047 111 132 255 255 019 140 027 206 254 233 235 153 169 189 060 126 226 216 161 095 040 036 142 216 169 114 \n",
      "049 037 070 150 148 091 054 226 245 004 169 137 073 207 138 163 222 247 197 048 189 155 216 163 215 051 067 052 086 043 098 121 115 111 140 132 243 196 239 035 \n",
      "034 168 107 165 097 102 229 233 156 033 239 110 235 159 078 112 075 149 245 056 238 122 070 026 218 234 244 207 178 210 180 050 060 222 024 190 004 199 060 136 \n",
      "189 116 170 193 064 032 196 120 010 020 076 105 204 199 016 141 047 188 171 083 062 188 063 039 252 157 134 113 156 030 042 221 087 009 064 070 124 051 002 145 \n",
      "096 156 093 020 245 132 156 089 128 228 157 096 151 118 071 186 176 021 140 080 242 006 049 222 160 127 199 185 080 119 158 192 140 195 080 239 172 039 126 112 \n",
      "224 030 151 160 022 224 048 241 000 042 051 089 003 075 111 084 198 246 093 122 060 099 191 008 161 098 171 175 103 012 219 146 094 004 166 060 104 042 234 018 \n",
      "247 030 037 177 010 224 147 093 006 092 163 216 175 210 041 126 182 101 231 231 001 145 123 236 062 118 177 073 218 139 026 211 080 141 090 154 219 032 023 046 \n",
      "013 237 128 151 109 204 126 148 079 230 054 023 040 110 037 249 120 061 092 109 209 035 131 200 003 161 006 175 111 074 177 016 138 246 026 185 050 152 199 173 \n",
      "006 119 152 014 023 085 046 161 109 237 035 202 148 047 165 021 008 127 199 084 188 059 013 163 016 221 028 136 144 003 056 235 117 193 039 122 127 205 085 156 \n",
      "229 013 185 035 074 114 171 096 102 005 022 121 191 107 194 092 042 100 042 219 019 239 059 066 101 082 165 198 195 079 217 015 072 122 169 069 063 225 141 253 \n",
      "127 182 241 139 216 043 138 072 187 041 169 161 167 032 177 196 048 179 074 048 098 162 203 109 023 009 046 179 100 143 118 099 148 244 205 173 085 029 181 010 \n",
      "146 113 184 169 051 069 121 055 114 185 210 032 173 117 167 152 168 109 090 137 018 219 110 216 149 114 194 050 071 246 226 029 074 042 110 168 131 071 058 223 \n",
      "243 032 204 194 186 063 044 066 032 094 107 168 012 218 060 099 042 231 250 087 149 118 243 080 096 042 090 131 099 211 101 147 204 090 041 223 149 089 111 141 \n",
      "172 246 112 028 197 007 140 000 250 004 096 053 075 166 070 141 144 189 066 216 008 042 128 012 213 165 009 242 177 092 050 232 254 093 036 197 218 043 092 007 \n",
      "058 169 140 001 049 084 041 213 110 095 031 196 173 042 165 114 081 093 201 132 157 184 125 052 002 170 014 064 220 138 153 231 115 086 244 125 153 205 144 127 \n",
      "065 199 092 237 120 154 079 050 213 148 082 194 244 153 113 033 224 006 222 014 079 083 012 013 144 226 087 182 116 223 014 188 028 044 085 202 156 185 095 010 \n",
      "114 230 167 085 145 251 093 209 045 018 010 254 237 071 125 028 037 112 113 250 163 014 009 085 058 194 020 042 185 006 094 090 035 135 180 125 000 011 027 179 \n",
      "110 137 178 212 038 170 026 088 252 161 225 015 137 022 048 173 149 133 082 000 130 083 009 183 114 161 092 101 047 194 159 172 205 042 181 047 231 106 031 087 \n",
      "221 007 095 172 222 165 050 252 198 061 177 101 156 011 018 182 103 223 196 192 099 194 209 109 020 211 023 182 152 145 184 243 152 223 038 051 192 085 182 217 \n",
      "024 189 061 229 195 190 044 001 176 072 232 156 107 111 162 028 234 240 159 126 095 238 045 123 084 253 162 168 009 239 141 239 232 108 044 007 041 243 075 166 \n",
      "012 080 099 127 014 081 098 046 072 021 174 176 164 001 067 030 018 010 096 232 219 222 045 006 062 008 214 019 027 049 046 165 243 045 127 190 192 170 088 140 \n",
      "057 234 102 118 210 039 229 163 125 239 062 036 120 243 099 063 166 171 252 029 227 072 039 197 132 107 133 018 148 086 152 240 208 075 002 031 088 011 009 081 \n",
      "242 143 211 150 082 093 076 150 072 013 061 074 231 228 028 157 173 191 075 116 110 231 021 134 100 173 121 137 238 074 217 040 202 184 036 124 092 232 138 159 \n",
      "074 009 220 090 017 082 209 236 148 032 255 054 118 001 254 206 013 196 087 201 023 102 021 073 228 092 144 079 158 118 190 139 096 100 185 114 108 148 109 036 \n",
      "069 021 057 086 201 246 080 184 087 102 224 020 223 242 189 171 113 254 250 059 006 191 053 103 177 206 146 034 009 165 064 062 152 077 072 028 108 160 171 011 \n",
      "066 173 109 230 228 247 244 010 253 110 064 216 125 074 234 151 230 038 129 172 031 012 204 198 096 115 192 238 125 131 109 254 126 097 008 108 147 171 041 025 \n",
      "186 184 223 034 053 171 179 160 142 002 186 143 114 166 008 046 207 065 071 108 169 034 005 030 222 149 076 042 170 085 124 238 008 088 235 178 063 254 188 029 \n",
      "179 112 135 079 239 175 229 096 039 213 167 197 217 162 137 105 024 145 133 228 255 123 101 183 067 178 054 051 091 166 060 009 182 249 139 125 146 021 026 136 \n",
      "159 070 023 081 040 161 142 181 191 246 010 200 126 082 153 167 202 197 194 031 011 069 107 058 104 236 059 252 137 253 037 044 145 118 206 104 020 086 060 072 \n",
      "120 028 224 211 110 102 048 039 074 029 110 180 229 252 183 035 101 217 161 142 148 148 148 119 225 040 208 124 241 235 168 192 125 190 147 126 241 136 015 073 \n",
      "073 010 227 045 039 230 064 209 174 092 086 154 166 027 136 202 170 085 248 112 152 026 101 047 080 219 090 160 197 249 136 116 241 017 198 059 133 211 132 051 \n",
      "134 030 196 054 204 047 128 142 038 191 079 049 095 009 096 122 182 216 113 156 077 216 070 085 024 164 036 190 064 070 097 144 134 029 161 106 076 093 092 069 \n",
      "218 195 144 140 071 103 240 254 245 234 185 199 203 208 112 020 141 021 030 184 118 177 066 079 254 042 176 190 007 229 164 212 255 116 255 076 111 199 051 109 \n",
      "077 178 149 014 232 253 017 189 158 200 218 140 179 240 154 246 138 180 189 003 029 205 014 028 047 230 114 137 198 061 160 238 174 043 010 225 114 032 188 245 \n",
      "231 170 179 117 200 006 152 102 240 198 221 083 204 045 070 196 073 203 161 074 255 059 219 126 186 197 029 093 098 009 116 235 089 230 163 056 214 026 031 096 \n",
      "057 081 236 099 152 181 241 076 162 067 180 087 194 173 211 146 247 208 112 175 028 064 212 133 136 212 243 037 167 178 252 067 009 173 073 006 167 129 245 092 \n",
      "110 237 018 082 030 082 017 243 078 030 031 193 243 245 113 208 "
     ]
    },
    {
     "name": "stderr",
     "output_type": "stream",
     "text": [
      "IOPub message rate exceeded.\n",
      "The Jupyter server will temporarily stop sending output\n",
      "to the client in order to avoid crashing it.\n",
      "To change this limit, set the config variable\n",
      "`--ServerApp.iopub_msg_rate_limit`.\n",
      "\n",
      "Current values:\n",
      "ServerApp.iopub_msg_rate_limit=1000.0 (msgs/sec)\n",
      "ServerApp.rate_limit_window=3.0 (secs)\n",
      "\n"
     ]
    }
   ],
   "source": [
    "/**\n",
    " * IFPR - Instituto Federal do Paraná\n",
    " * Professor: Nelson Bellincanta Filho\n",
    " * Aluno: Willian dos Santos\n",
    " * Curso: TADS\n",
    " * Ano: 2º ano\n",
    " *\n",
    " *  Exercício 05\n",
    "Uma imagem é formada por pixels. Considere uma imagem com dimensão de 40 x 40 e faça uma classe que contenha um array bidimensional com essas dimensões. A seguir, para cada posição desse array bidimensional armazene um valor aleatório entre 0 e 255 (esses valores correspondem às tonalidades aplicadas sobre a imagem). Apresente em tela os 1600 valores gerados.\n",
    " */\n",
    "// public class Exercicio05{\n",
    "//     public static void main(String[] args) {\n",
    "        int img[][] = new int[40][40];\n",
    "\n",
    "        for(int r=0; r<img.length; r++){\n",
    "            for(int c=0; c<img[r].length; c++){\n",
    "                img[r][c] = (int)(Math.random()*256);\n",
    "                System.out.printf(\"%03d \", img[r][c]);\n",
    "            }\n",
    "            System.out.println();\n",
    "        }\n",
    "//     }\n",
    "// }\n"
   ]
  },
  {
   "cell_type": "code",
   "execution_count": null,
   "id": "63b12b89-3bff-42ec-be11-d07bfe9209db",
   "metadata": {},
   "outputs": [],
   "source": []
  }
 ],
 "metadata": {
  "kernelspec": {
   "display_name": "Java",
   "language": "java",
   "name": "java"
  },
  "language_info": {
   "codemirror_mode": "text/x-java",
   "file_extension": ".java",
   "mimetype": "",
   "name": "Java",
   "nbconverter_exporter": "",
   "version": "1.8.0_121"
  }
 },
 "nbformat": 4,
 "nbformat_minor": 5
}
