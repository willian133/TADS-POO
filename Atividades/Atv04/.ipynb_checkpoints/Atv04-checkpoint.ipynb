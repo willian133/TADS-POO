{
 "cells": [
  {
   "cell_type": "markdown",
   "id": "c7ee3289-9b4f-4614-be87-f28d14196dc5",
   "metadata": {},
   "source": [
    "# Exercício 01\n",
    "<p style=\"text-align:justify;\">\n",
    "Crie um programa que armazene um vetor com as notas de dez alunos, calcule e imprima a média dessas notas e depois informe a quantidade de notas acima e abaixo da média calculada.\n",
    "</p>"
   ]
  },
  {
   "cell_type": "code",
   "execution_count": null,
   "id": "ff67e1a8-6e02-4bc6-b061-51aaed7c7caa",
   "metadata": {},
   "outputs": [],
   "source": []
  },
  {
   "cell_type": "markdown",
   "id": "f55a5fce-412b-40a9-abcb-008951e349ae",
   "metadata": {},
   "source": [
    "# Exercício 02\n",
    "<p style=\"text-align:justify;\">\n",
    "Construa uma classe em Java que seja capaz de efetuar a leitura de uma matriz de valores reais de tamanho 3 x 3, calculando seu determinante.\n",
    "</p>"
   ]
  },
  {
   "cell_type": "code",
   "execution_count": null,
   "id": "f3140b7a-9ec1-4421-8c76-38520f87d539",
   "metadata": {},
   "outputs": [],
   "source": []
  },
  {
   "cell_type": "markdown",
   "id": "7b9c1eef-464a-475c-b264-819c862a09bb",
   "metadata": {},
   "source": [
    "# Exercício 03\n",
    "<p style=\"text-align:justify;\">\n",
    "Faça uma classe contendo dois arrays do tipo inteiro, um chamado par e outro chamado ímpar. Cada array deve conter 10 elementos. A seguir, faça um laço de repetição com 10 iterações e que contenha internamente a geração randômica de números entre 1 e 20. Se o valor gerado for par, armazene no array chamado par, caso contrário, no array chamado impar. Ao final, apresente o conteúdo de cada um dos arrays.\n",
    "</p>"
   ]
  },
  {
   "cell_type": "code",
   "execution_count": null,
   "id": "fe785da1-2ff1-4bd7-ab26-b007dcf05fc1",
   "metadata": {},
   "outputs": [],
   "source": []
  },
  {
   "cell_type": "markdown",
   "id": "d062d462-4a98-4e65-8f3b-fe9c1a8e677e",
   "metadata": {},
   "source": [
    "# Exercício 04\n",
    "<p style=\"text-align:justify;\">\n",
    "Usando um array unidimensional de 10 elementos do tipo String, faça uma classe que simule a ocupação de um estacionamento de veículos. Considere que a posição do array corresponde ao número da vaga e para cada vaga é armazenada a placa do veículo que está estacionado. Sua classe deve conter um laço de repetição simulando um menu que controle a entrada e a saída dos veículos com as opções: 1-Entrada, 2-Saída e 3-Listar situação atual e 4-Encerrar o programa. Se o usuário escolher 1, solicite o número da vaga e a placa do veículo; se escolher 2, solicite o número da vaga que será liberada e armazene o valor branco na posição correspondente ao array; se escolher 3, liste a situação atual apresentando em tela todos os elementos do array; quando for 4, encerre o laço e o programa.\n",
    "</p>"
   ]
  },
  {
   "cell_type": "code",
   "execution_count": null,
   "id": "64874188-7345-4348-8a4e-e9cb50d04ab2",
   "metadata": {},
   "outputs": [],
   "source": []
  },
  {
   "cell_type": "markdown",
   "id": "c9fef6b4-44c6-468e-9384-0409416c0249",
   "metadata": {},
   "source": [
    "# Exercício 05\n",
    "<p style=\"text-align:justify;\">\n",
    "Uma imagem é formada por pixels. Considere uma imagem com dimensão de 40 x 40 e faça uma classe que contenha um array bidimensional com essas dimensões. A seguir, para cada posição\n",
    "desse array bidimensional armazene um valor aleatório entre 0 e 255 (esses valores correspondem às tonalidades aplicadas sobre a imagem). Apresente em tela os 1600 valores gerados.\n",
    "</p>"
   ]
  },
  {
   "cell_type": "code",
   "execution_count": null,
   "id": "4147c7b9-502e-4105-953b-0ded7337f4b1",
   "metadata": {},
   "outputs": [],
   "source": []
  }
 ],
 "metadata": {
  "kernelspec": {
   "display_name": "Java",
   "language": "java",
   "name": "java"
  },
  "language_info": {
   "codemirror_mode": "java",
   "file_extension": ".jshell",
   "mimetype": "text/x-java-source",
   "name": "Java",
   "pygments_lexer": "java",
   "version": "21.0.1+12-LTS-29"
  }
 },
 "nbformat": 4,
 "nbformat_minor": 5
}
