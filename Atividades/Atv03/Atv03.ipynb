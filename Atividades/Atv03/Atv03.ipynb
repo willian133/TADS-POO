{
 "cells": [
  {
   "cell_type": "markdown",
   "id": "4bb6fac5-5fca-45eb-967e-fb78a030ac7a",
   "metadata": {
    "tags": []
   },
   "source": [
    "# Exercício 01\n",
    "\n",
    "<p style=\"text-align:justify;\">\n",
    "Faça uma classe em Java que percorra todos os número de 1 até 100. Para os números múltiplos de 4, exiba a palavra “PIN”, e para os outros, exiba o próprio número. Veja o exemplo abaixo:\n",
    "\n",
    "1 \n",
    "2 \n",
    "3\n",
    "PIN\n",
    "5 \n",
    "6 \n",
    "7\n",
    "PIN\n",
    "</p>"
   ]
  },
  {
   "cell_type": "code",
   "execution_count": 1,
   "id": "702f548b-53d3-4cb5-9a1b-1904edf8031e",
   "metadata": {
    "tags": []
   },
   "outputs": [
    {
     "name": "stdout",
     "output_type": "stream",
     "text": [
      "1 2 3 PIN 5 6 7 PIN 9 10 11 PIN 13 14 15 PIN 17 18 19 PIN 21 22 23 PIN 25 26 27 PIN 29 30 31 PIN 33 34 35 PIN 37 38 39 PIN 41 42 43 PIN 45 46 47 PIN 49 50 51 PIN 53 54 55 PIN 57 58 59 PIN 61 62 63 PIN 65 66 67 PIN 69 70 71 PIN 73 74 75 PIN 77 78 79 PIN 81 82 83 PIN 85 86 87 PIN 89 90 91 PIN 93 94 95 PIN 97 98 99 PIN "
     ]
    },
    {
     "data": {
      "text/plain": [
       "null"
      ]
     },
     "execution_count": 1,
     "metadata": {},
     "output_type": "execute_result"
    }
   ],
   "source": [
    "/**\n",
    " * IFPR - Instituto Federal do Paraná\n",
    " * Professor: Nelson Bellincanta Filho\n",
    " * Aluno: Willian dos Santos\n",
    " * Curso: TADS\n",
    " * Ano: 2º ano\n",
    " * \n",
    " * Exercício 01\n",
    "    Faça uma classe em Java que percorra todos os número de 1 até 100. Para os números múltiplos de 4, exiba a palavra “PIN”, e para os outros, exiba o próprio número. Veja o exemplo abaixo:\n",
    " */\n",
    "\n",
    " // public class Exercicio01{\n",
    " //    public static void main(String[] args) {\n",
    "        for(int i=1; i<=100; i++){\n",
    "            if(i%4==0){\n",
    "                System.out.print(\"PIN \");\n",
    "            }else{\n",
    "                System.out.print(i+\" \");\n",
    "            }\n",
    "        }\n",
    "//     }\n",
    "// }"
   ]
  },
  {
   "cell_type": "markdown",
   "id": "127805f9-61ad-4f87-81d5-09d68ad567e5",
   "metadata": {},
   "source": [
    "# Exercício 02\n",
    "\n",
    "<p style=\"text-align:justify;\">\n",
    "Os números de Fibonacci são uma sequência de números definida recursivamente. O primeiro elemento da sequência é 0 e o segundo é 1. Os outros elementos são calculados somando os dois antecessores.\n",
    "\n",
    "0, 1, 1, 2, 3, 5, 8, 13, 21, 34, 55, 89, 144, 233...\n",
    "\n",
    "Crie uma classe em Java para exibir os 30 primeiros números da sequência de Fibonacci. Adicione uma classe chamada Fibonacci.\n",
    "\n",
    "</p>"
   ]
  },
  {
   "cell_type": "code",
   "execution_count": 2,
   "id": "e2dde981-aa9f-450a-9969-0e95d6851014",
   "metadata": {},
   "outputs": [
    {
     "name": "stdout",
     "output_type": "stream",
     "text": [
      "0, 1, 1, 2, 3, 5, 8, 13, 21, 34, 55, 89, 144, 233, 377, 610, 987, 1597, 2584, 4181, 6765, 10946, 17711, 28657, 46368, 75025, 121393, 196418, 317811, 514229"
     ]
    },
    {
     "data": {
      "text/plain": [
       "null"
      ]
     },
     "execution_count": 2,
     "metadata": {},
     "output_type": "execute_result"
    }
   ],
   "source": [
    "/**\n",
    " * IFPR - Instituto Federal do Paraná\n",
    " * Professor: Nelson Bellincanta Filho\n",
    " * Aluno: Willian dos Santos\n",
    " * Curso: TADS\n",
    " * Ano: 2º ano\n",
    " * \n",
    " * Exercício 02\n",
    "Os números de Fibonacci são uma sequência de números definida recursivamente. O primeiro elemento da sequência é 0 e o segundo é 1. Os outros elementos são calculados somando os dois antecessores.\n",
    "\n",
    "0, 1, 1, 2, 3, 5, 8, 13, 21, 34, 55, 89, 144, 233...\n",
    "\n",
    "Crie uma classe em Java para exibir os 30 primeiros números da sequência de Fibonacci. Adicione uma classe chamada Fibonacci.\n",
    " */\n",
    "\n",
    "// public class Fibonacci{\n",
    "//     public static void main(String[] args) {\n",
    "        int qnty = 30;\n",
    "        \n",
    "        int a = 1, aa = 0, atual = 0;\n",
    "\n",
    "        \n",
    "        System.out.printf(\"%d\", atual);\n",
    "        for(int i=0; i<qnty-1; i++){\n",
    "            if(i==0){\n",
    "                atual = a;\n",
    "                System.out.printf(\", %d\", atual);\n",
    "                continue;\n",
    "            }\n",
    "            atual = a+aa;\n",
    "            aa = a;\n",
    "            a = atual;\n",
    "\n",
    "            System.out.printf(\", %d\", atual);\n",
    "        }\n",
    "//     }\n",
    "// }"
   ]
  },
  {
   "cell_type": "markdown",
   "id": "0a603b13-c1e7-4f32-9433-e1616774cffd",
   "metadata": {},
   "source": [
    "# Exercício 03\n",
    "\n",
    "<p style=\"text-align:justify;\">\n",
    "Faça uma classe em Java que fique em laço solicitando a digitação de números inteiros maiores ou iguais a zero. Quando o usuário digitar um número menor que zero, o programa deve exibir a quantidade de números digitados e a média desses números.\n",
    "\n",
    "</p>"
   ]
  },
  {
   "cell_type": "code",
   "execution_count": 3,
   "id": "2ff9061a-d771-4aab-a5f4-3a24bcc65a0c",
   "metadata": {},
   "outputs": [
    {
     "name": "stdin",
     "output_type": "stream",
     "text": [
      " 1\n",
      " 2\n",
      " 3\n",
      " -1\n"
     ]
    },
    {
     "name": "stdout",
     "output_type": "stream",
     "text": [
      "Foram digitados 3 números e a média dos números digitados é: 2.00\n"
     ]
    },
    {
     "data": {
      "text/plain": [
       "null"
      ]
     },
     "execution_count": 3,
     "metadata": {},
     "output_type": "execute_result"
    }
   ],
   "source": [
    "/**\n",
    " * IFPR - Instituto Federal do Paraná\n",
    " * Professor: Nelson Bellincanta Filho\n",
    " * Aluno: Willian dos Santos\n",
    " * Curso: TADS\n",
    " * Ano: 2º ano\n",
    " * \n",
    " * Exercício 03\n",
    "Faça uma classe em Java que fique em laço solicitando a digitação de números inteiros maiores ou iguais a zero. Quando o usuário digitar um número menor que zero, o programa deve exibir a quantidade de números digitados e a média desses números.\n",
    " */\n",
    "import java.util.Scanner;\n",
    "\n",
    "// public class Exercicio03{\n",
    "//     public static void main(String[] args) {\n",
    "        Scanner sc = new Scanner(System.in);\n",
    "        int cont = 0, soma=0;\n",
    "        int a;\n",
    "\n",
    "        while((a = sc.nextInt())>=0){\n",
    "            cont++;\n",
    "            soma+=a;\n",
    "        }\n",
    "        sc.close();\n",
    "\n",
    "        float media = 0;\n",
    "        if(cont>0) media = soma / cont;\n",
    "        System.out.printf(\"Foram digitados %d números e a média dos números digitados é: %.2f\\n\", cont, media);\n",
    "//     }\n",
    "// }"
   ]
  },
  {
   "cell_type": "markdown",
   "id": "51f836fa-fe0a-4ef1-b0dd-61d4f991ee01",
   "metadata": {},
   "source": [
    "# Exercício 04\n",
    "\n",
    "<p style=\"text-align:justify;\">\n",
    "Crie uma classe em Java para realizar cada uma das seguintes tarefas:\n",
    "\n",
    "a) Some os inteiros ímpares entre 1 e 99 utilizando uma instrução for. Assuma que as variáveis de inteiro sum e count foram declaradas.\n",
    "\n",
    "b) Calcule o valor de 2.5 elevado à potência de 3, utilizando o método pow da classe Math.\n",
    "\n",
    "c) Imprima os inteiros de 1 a 20, utilizando um loop while e a variável contadora i. Assuma que a variável i foi declarada, mas não foi inicializada. Imprima apenas cinco inteiros por linha. \n",
    "\n",
    "[Dica: utilize o cálculo i % 5. Quando o valor dessa expressão for 0, imprima um caractere de nova linha; caso contrário, imprima um caractere de tabulação. Assuma que esse código é um aplicativo. Utilize o método System.out.println () para imprimir o caractere de nova linha, e utilize o método System.out.print ('\\t') para\n",
    "imprimir o caractere de tabulação.]\n",
    "</p>"
   ]
  },
  {
   "cell_type": "code",
   "execution_count": 4,
   "id": "eba746fd-fd58-4470-8384-579dc83d83ad",
   "metadata": {},
   "outputs": [
    {
     "name": "stdout",
     "output_type": "stream",
     "text": [
      "a) A soma dos inteiros ímpares em [1, 99] é de: 2500\n",
      "b) 2,5 ao cubo é: 15.625\n",
      "c)\n",
      "\t01\t02\t03\t04\t05\n",
      "\t06\t07\t08\t09\t10\n",
      "\t11\t12\t13\t14\t15\n",
      "\t16\t17\t18\t19\t20\n"
     ]
    },
    {
     "data": {
      "text/plain": [
       "null"
      ]
     },
     "execution_count": 4,
     "metadata": {},
     "output_type": "execute_result"
    }
   ],
   "source": [
    "/**\n",
    " * IFPR - Instituto Federal do Paraná\n",
    " * Professor: Nelson Bellincanta Filho\n",
    " * Aluno: Willian dos Santos\n",
    " * Curso: TADS\n",
    " * Ano: 2º ano\n",
    " * \n",
    " * Exercício 04\n",
    "Crie uma classe em Java para realizar cada uma das seguintes tarefas:\n",
    "\n",
    "a) Some os inteiros ímpares entre 1 e 99 utilizando uma instrução for. Assuma que as variáveis de inteiro sum e count foram declaradas.\n",
    "\n",
    "b) Calcule o valor de 2.5 elevado à potência de 3, utilizando o método pow da classe Math.\n",
    "\n",
    "c) Imprima os inteiros de 1 a 20, utilizando um loop while e a variável contadora i. Assuma que a variável i foi declarada, mas não foi inicializada. Imprima apenas cinco inteiros por linha.\n",
    "\n",
    "[Dica: utilize o cálculo i % 5. Quando o valor dessa expressão for 0, imprima um caractere de nova linha; caso contrário, imprima um caractere de tabulação. Assuma que esse código é um aplicativo. Utilize o método System.out.println () para imprimir o caractere de nova linha, e utilize o método System.out.print ('\\t') para imprimir o caractere de tabulação.]\n",
    " */\n",
    "// public class Exercicio04{\n",
    "//     public static void main(String[] args) {\n",
    "        int count=0, sum=0, i=0;\n",
    "        \n",
    "        for(i=1; i<100; i+=2){\n",
    "            sum+=i;\n",
    "        }\n",
    "        System.out.printf(\"a) A soma dos inteiros ímpares em [1, 99] é de: %d\\n\", sum);\n",
    "\n",
    "        System.out.printf(\"b) 2,5 ao cubo é: %.3f\\n\", (float)Math.pow(2.5, 3));\n",
    "\n",
    "        System.out.println(\"c)\");\n",
    "        i=0;\n",
    "        while((i++) < 20){\n",
    "            System.out.printf(\"\\t%02d\",i);\n",
    "            if(i%5==0)  System.out.print('\\n');\n",
    "        }\n",
    "//     }\n",
    "// }"
   ]
  },
  {
   "cell_type": "markdown",
   "id": "7ede01a3-1eae-4d06-a9f3-101905f8ed17",
   "metadata": {},
   "source": [
    "# Exercício 05\n",
    "\n",
    "<p style=\"text-align:justify;\">\n",
    "Repita a parte (c) do exercício anterior utilizando uma instrução for.\n",
    "\n",
    "</p>"
   ]
  },
  {
   "cell_type": "code",
   "execution_count": 5,
   "id": "3e14e693-06c6-4522-90fd-77e69ddbe776",
   "metadata": {},
   "outputs": [
    {
     "name": "stdout",
     "output_type": "stream",
     "text": [
      "c)\n",
      "\t01\t02\t03\t04\t05\n",
      "\t06\t07\t08\t09\t10\n",
      "\t11\t12\t13\t14\t15\n",
      "\t16\t17\t18\t19\t20\n"
     ]
    },
    {
     "data": {
      "text/plain": [
       "null"
      ]
     },
     "execution_count": 5,
     "metadata": {},
     "output_type": "execute_result"
    }
   ],
   "source": [
    "/**\n",
    " * IFPR - Instituto Federal do Paraná\n",
    " * Professor: Nelson Bellincanta Filho\n",
    " * Aluno: Willian dos Santos\n",
    " * Curso: TADS\n",
    " * Ano: 2º ano\n",
    " * \n",
    " * Exercício 05\n",
    "Repita a parte (c) do exercício anterior utilizando uma instrução for.\n",
    " */\n",
    "// public class Exercicio05{\n",
    "//     public static void main(String[] args) {\n",
    "        System.out.println(\"c)\");\n",
    "        for(int i=1; i<=20; i++){\n",
    "            System.out.printf(\"\\t%02d\",i);\n",
    "            if(i%5==0)  System.out.print('\\n');\n",
    "        }\n",
    "//     }\n",
    "// }"
   ]
  },
  {
   "cell_type": "code",
   "execution_count": null,
   "id": "2496578a-5ea6-4345-815c-34ba288e06ca",
   "metadata": {},
   "outputs": [],
   "source": []
  }
 ],
 "metadata": {
  "kernelspec": {
   "display_name": "Java",
   "language": "java",
   "name": "java"
  },
  "language_info": {
   "codemirror_mode": "text/x-java",
   "file_extension": ".java",
   "mimetype": "",
   "name": "Java",
   "nbconverter_exporter": "",
   "version": "1.8.0_121"
  }
 },
 "nbformat": 4,
 "nbformat_minor": 5
}
