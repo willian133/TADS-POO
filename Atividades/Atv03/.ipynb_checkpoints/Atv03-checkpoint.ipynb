{
 "cells": [
  {
   "cell_type": "markdown",
   "id": "c0f51e2e-83d7-4cbe-bbba-c0ae8807b7ca",
   "metadata": {},
   "source": [
    "# Exercício 01\n",
    "\n",
    "<p style=\"text-align:justify;\">\n",
    "Faça uma classe em Java que percorra todos os número de 1 até 100. Para os números múltiplos de 4, exiba a palavra “PIN”, e para os outros, exiba o próprio número. Veja o exemplo abaixo:\n",
    "\n",
    "1 \n",
    "2 \n",
    "3\n",
    "PIN\n",
    "5 \n",
    "6 \n",
    "7\n",
    "PIN\n",
    "</p>"
   ]
  },
  {
   "cell_type": "code",
   "execution_count": null,
   "id": "702f548b-53d3-4cb5-9a1b-1904edf8031e",
   "metadata": {},
   "outputs": [],
   "source": []
  },
  {
   "cell_type": "markdown",
   "id": "127805f9-61ad-4f87-81d5-09d68ad567e5",
   "metadata": {},
   "source": [
    "# Exercício 02\n",
    "\n",
    "<p style=\"text-align:justify;\">\n",
    "Os números de Fibonacci são uma sequência de números definida recursivamente. O primeiro elemento da sequência é 0 e o segundo é 1. Os outros elementos são calculados somando os dois antecessores.\n",
    "\n",
    "0, 1, 1, 2, 3, 5, 8, 13, 21, 34, 55, 89, 144, 233...\n",
    "\n",
    "Crie uma classe em Java para exibir os 30 primeiros números da sequência de Fibonacci. Adicione uma classe chamada Fibonacci.\n",
    "\n",
    "</p>"
   ]
  },
  {
   "cell_type": "code",
   "execution_count": null,
   "id": "e2dde981-aa9f-450a-9969-0e95d6851014",
   "metadata": {},
   "outputs": [],
   "source": []
  },
  {
   "cell_type": "markdown",
   "id": "0a603b13-c1e7-4f32-9433-e1616774cffd",
   "metadata": {},
   "source": [
    "# Exercício 03\n",
    "\n",
    "<p style=\"text-align:justify;\">\n",
    "Faça uma classe em Java que fique em laço solicitando a digitação de números inteiros maiores ou iguais a zero. Quando o usuário digitar um número menor que zero, o programa deve exibir a quantidade de números digitados e a média desses números.\n",
    "\n",
    "</p>"
   ]
  },
  {
   "cell_type": "code",
   "execution_count": null,
   "id": "2ff9061a-d771-4aab-a5f4-3a24bcc65a0c",
   "metadata": {},
   "outputs": [],
   "source": []
  },
  {
   "cell_type": "markdown",
   "id": "51f836fa-fe0a-4ef1-b0dd-61d4f991ee01",
   "metadata": {},
   "source": [
    "# Exercício 04\n",
    "\n",
    "<p style=\"text-align:justify;\">\n",
    "Crie uma classe em Java para realizar cada uma das seguintes tarefas:\n",
    "\n",
    "a) Some os inteiros ímpares entre 1 e 99 utilizando uma instrução for. Assuma que as variáveis de inteiro sum e count foram declaradas.\n",
    "\n",
    "b) Calcule o valor de 2.5 elevado à potência de 3, utilizando o método pow da classe Math.\n",
    "\n",
    "c) Imprima os inteiros de 1 a 20, utilizando um loop while e a variável contadora i. Assuma que a variável i foi declarada, mas não foi inicializada. Imprima apenas cinco inteiros por linha. \n",
    "\n",
    "[Dica: utilize o cálculo i % 5. Quando o valor dessa expressão for 0, imprima um caractere de nova linha; caso contrário, imprima um caractere de tabulação. Assuma que esse código é um aplicativo. Utilize o método System.out.println () para imprimir o caractere de nova linha, e utilize o método System.out.print ('\\t') para\n",
    "imprimir o caractere de tabulação.]\n",
    "</p>"
   ]
  },
  {
   "cell_type": "code",
   "execution_count": null,
   "id": "eba746fd-fd58-4470-8384-579dc83d83ad",
   "metadata": {},
   "outputs": [],
   "source": []
  },
  {
   "cell_type": "markdown",
   "id": "7ede01a3-1eae-4d06-a9f3-101905f8ed17",
   "metadata": {},
   "source": [
    "# Exercício 05\n",
    "\n",
    "<p style=\"text-align:justify;\">\n",
    "Repita a parte (c) do exercício anterior utilizando uma instrução for.\n",
    "\n",
    "</p>"
   ]
  },
  {
   "cell_type": "code",
   "execution_count": null,
   "id": "3e14e693-06c6-4522-90fd-77e69ddbe776",
   "metadata": {},
   "outputs": [],
   "source": []
  }
 ],
 "metadata": {
  "kernelspec": {
   "display_name": "Java",
   "language": "java",
   "name": "java"
  },
  "language_info": {
   "codemirror_mode": "java",
   "file_extension": ".jshell",
   "mimetype": "text/x-java-source",
   "name": "Java",
   "pygments_lexer": "java",
   "version": "21.0.1+12-LTS-29"
  }
 },
 "nbformat": 4,
 "nbformat_minor": 5
}
